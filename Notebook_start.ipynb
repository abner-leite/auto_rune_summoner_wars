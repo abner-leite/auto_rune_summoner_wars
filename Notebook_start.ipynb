{
 "cells": [
  {
   "cell_type": "code",
   "execution_count": 3,
   "id": "828a8dbf",
   "metadata": {
    "ExecuteTime": {
     "end_time": "2024-01-31T17:44:56.662221Z",
     "start_time": "2024-01-31T17:44:54.642653Z"
    }
   },
   "outputs": [],
   "source": [
    "import pandas as pd\n",
    "import numpy as np "
   ]
  },
  {
   "cell_type": "code",
   "execution_count": 2,
   "id": "8250f502",
   "metadata": {
    "ExecuteTime": {
     "end_time": "2024-01-31T15:05:29.880232Z",
     "start_time": "2024-01-31T15:05:29.872641Z"
    }
   },
   "outputs": [],
   "source": [
    "runes_effect = {\n",
    "    \"Blade\" : {\"N_min\":2,\"atr\":\"TC\",\"value\":0.12, \"type\":\"flat\"},\n",
    "\n",
    "}"
   ]
  },
  {
   "cell_type": "code",
   "execution_count": 93,
   "id": "cb6f51d9",
   "metadata": {
    "ExecuteTime": {
     "end_time": "2024-01-31T18:25:31.549102Z",
     "start_time": "2024-01-31T18:25:31.517526Z"
    }
   },
   "outputs": [
    {
     "name": "stderr",
     "output_type": "stream",
     "text": [
      "C:\\Users\\abner\\AppData\\Local\\Temp\\ipykernel_4264\\1508377122.py:2: FutureWarning: Defining usecols with out of bounds indices is deprecated and will raise a ParserError in a future version.\n",
      "  target_mob = pd.read_excel('input.xlsx',sheet_name=\"MOBS_START\",usecols=[0]+list(np.arange(10,20)))\n"
     ]
    }
   ],
   "source": [
    "input_mob = pd.read_excel('input.xlsx',sheet_name=\"MOBS_START\",usecols=np.arange(0,9))\n",
    "target_mob = pd.read_excel('input.xlsx',sheet_name=\"MOBS_START\",usecols=[0]+list(np.arange(10,20)))\n",
    "target_mob.columns = input_mob.columns"
   ]
  },
  {
   "cell_type": "code",
   "execution_count": 94,
   "id": "46960455",
   "metadata": {
    "ExecuteTime": {
     "end_time": "2024-01-31T18:25:32.110290Z",
     "start_time": "2024-01-31T18:25:32.088452Z"
    }
   },
   "outputs": [],
   "source": [
    "runes = pd.read_excel('input.xlsx',sheet_name=\"RUNES\")\n",
    "runes = runes.fillna(0)"
   ]
  },
  {
   "cell_type": "code",
   "execution_count": 111,
   "id": "aab8671a",
   "metadata": {
    "ExecuteTime": {
     "end_time": "2024-01-31T18:29:49.232061Z",
     "start_time": "2024-01-31T18:29:49.220888Z"
    }
   },
   "outputs": [],
   "source": [
    "def calculate_runes(runes1=None,runes2=None,runes3=None,runes4=None,rune5=None,runes6=None):\n",
    "    multi = {'VEL': 0.0,\n",
    "    'HP+': 0.0,\n",
    "    'HP%': 0.0,\n",
    "    'ATQ+': 0.0,\n",
    "    'ATQ%': 0.0,\n",
    "    'DEF+': 0.0,\n",
    "    'DEF%': 0.0,\n",
    "    'TC': 0.0,\n",
    "    'DC': 0.0,\n",
    "    'RES': 0.0,\n",
    "    'PRE': 0.0\n",
    "    }\n",
    "\n",
    "    runes = [runes1,runes2,runes3,runes4,runes5,runes6]\n",
    "    runes_count={}\n",
    "    for ru in runes:\n",
    "        if ru is not None:\n",
    "            runes_count[ru[\"Type\"]] = 1 if  runes_count.get(ru[\"Type\"]) is None else runes_count[ru[\"Type\"]]+1\n",
    "\n",
    "            for i in multi:\n",
    "                multi[i]+=runes1[i]\n",
    "\n",
    "    \n",
    "    return multi\n",
    "# def calculate_mob(mob,add):\n",
    "#     mob[\"HP\"] += add[\"HP+\"]+(mob[\"HP\"]*add[\"HP%\"])\n",
    "#     mob[\"ATQ\"] += add[\"ATQ+\"]+(mob[\"ATQ\"]*add[\"ATQ%\"])\n",
    "#     mob[\"DEF\"] += add[\"DEF+\"]+(mob[\"DEF\"]*add[\"DEF%\"])\n",
    "#     mob[\"VEL\"] += add[\"VEL\"]\n",
    "#     mob[\"TC\"] += add[\"TC\"]\n",
    "#     mob[\"DC\"] += add[\"DC\"]\n",
    "#     mob[\"RES\"] += add[\"RES\"]\n",
    "#     mob[\"PRE\"] += add[\"PRE\"]\n",
    "#     return mob\n",
    "add = calculate_runes(runes.iloc[1].to_dict())"
   ]
  },
  {
   "cell_type": "code",
   "execution_count": null,
   "id": "0e0fc679",
   "metadata": {},
   "outputs": [],
   "source": []
  },
  {
   "cell_type": "code",
   "execution_count": 108,
   "id": "85893204",
   "metadata": {
    "ExecuteTime": {
     "end_time": "2024-01-31T18:26:51.629568Z",
     "start_time": "2024-01-31T18:26:51.624571Z"
    }
   },
   "outputs": [],
   "source": [
    "def calculate_mob(mob,add):\n",
    "    mob[\"HP\"] += add[\"HP+\"]+(mob[\"HP\"]*add[\"HP%\"])\n",
    "    mob[\"ATQ\"] += add[\"ATQ+\"]+(mob[\"ATQ\"]*add[\"ATQ%\"])\n",
    "    mob[\"DEF\"] += add[\"DEF+\"]+(mob[\"DEF\"]*add[\"DEF%\"])\n",
    "    mob[\"VEL\"] += add[\"VEL\"]\n",
    "    mob[\"TC\"] += add[\"TC\"]\n",
    "    mob[\"DC\"] += add[\"DC\"]\n",
    "    mob[\"RES\"] += add[\"RES\"]\n",
    "    mob[\"PRE\"] += add[\"PRE\"]\n",
    "    return mob"
   ]
  },
  {
   "cell_type": "code",
   "execution_count": 109,
   "id": "f5a809c3",
   "metadata": {
    "ExecuteTime": {
     "end_time": "2024-01-31T18:26:52.101073Z",
     "start_time": "2024-01-31T18:26:52.088308Z"
    }
   },
   "outputs": [],
   "source": [
    "mob = input_mob.iloc[1].to_dict().copy()\n",
    "calculate_mob(mob,add)"
   ]
  },
  {
   "cell_type": "code",
   "execution_count": 110,
   "id": "0a9b1a6c",
   "metadata": {
    "ExecuteTime": {
     "end_time": "2024-01-31T18:26:52.411064Z",
     "start_time": "2024-01-31T18:26:52.400550Z"
    }
   },
   "outputs": [
    {
     "data": {
      "text/plain": [
       "{'Nome': 'Dancsha',\n",
       " 'HP': 4961.0,\n",
       " 'ATQ': 450.0,\n",
       " 'DEF': 315.0,\n",
       " 'VEL': 109.0,\n",
       " 'TC': 0.18,\n",
       " 'DC': 0.5,\n",
       " 'RES': 0.15,\n",
       " 'PRE': 0.07}"
      ]
     },
     "execution_count": 110,
     "metadata": {},
     "output_type": "execute_result"
    }
   ],
   "source": [
    "calculate_mob(mob,add)"
   ]
  },
  {
   "cell_type": "code",
   "execution_count": 1,
   "id": "60dc7243",
   "metadata": {
    "ExecuteTime": {
     "end_time": "2024-01-31T15:05:25.083426Z",
     "start_time": "2024-01-31T15:05:24.586838Z"
    },
    "scrolled": true
   },
   "outputs": [
    {
     "ename": "NameError",
     "evalue": "name 'runes_effect' is not defined",
     "output_type": "error",
     "traceback": [
      "\u001b[1;31m---------------------------------------------------------------------------\u001b[0m",
      "\u001b[1;31mNameError\u001b[0m                                 Traceback (most recent call last)",
      "Input \u001b[1;32mIn [1]\u001b[0m, in \u001b[0;36m<cell line: 72>\u001b[1;34m()\u001b[0m\n\u001b[0;32m     70\u001b[0m             multi[atribute[\u001b[38;5;124m\"\u001b[39m\u001b[38;5;124matr\u001b[39m\u001b[38;5;124m\"\u001b[39m]][atribute[\u001b[38;5;124m\"\u001b[39m\u001b[38;5;124mtype_v\u001b[39m\u001b[38;5;124m\"\u001b[39m]] \u001b[38;5;241m+\u001b[39m\u001b[38;5;241m=\u001b[39matribute[\u001b[38;5;124m\"\u001b[39m\u001b[38;5;124mvalue\u001b[39m\u001b[38;5;124m\"\u001b[39m]\n\u001b[0;32m     72\u001b[0m \u001b[38;5;28;01mfor\u001b[39;00m ru \u001b[38;5;129;01min\u001b[39;00m runes_count:\n\u001b[1;32m---> 73\u001b[0m     time_proc \u001b[38;5;241m=\u001b[39m\u001b[38;5;28mint\u001b[39m(runes_count[ru]\u001b[38;5;241m/\u001b[39m\u001b[43mrunes_effect\u001b[49m[ru][\u001b[38;5;124m\"\u001b[39m\u001b[38;5;124mN_min\u001b[39m\u001b[38;5;124m\"\u001b[39m])\n\u001b[0;32m     74\u001b[0m     multi[runes_effect[ru][\u001b[38;5;124m\"\u001b[39m\u001b[38;5;124matr\u001b[39m\u001b[38;5;124m\"\u001b[39m]][runes_effect[ru][\u001b[38;5;124m\"\u001b[39m\u001b[38;5;124mtype\u001b[39m\u001b[38;5;124m\"\u001b[39m]] \u001b[38;5;241m+\u001b[39m\u001b[38;5;241m=\u001b[39m runes_effect[ru][\u001b[38;5;124m\"\u001b[39m\u001b[38;5;124mvalue\u001b[39m\u001b[38;5;124m\"\u001b[39m]\u001b[38;5;241m*\u001b[39mtime_proc\n\u001b[0;32m     76\u001b[0m add \u001b[38;5;241m=\u001b[39m{}\n",
      "\u001b[1;31mNameError\u001b[0m: name 'runes_effect' is not defined"
     ]
    }
   ],
   "source": [
    "multi = {\n",
    "    \"HP\": {\"flat\":0,\"percent\":0},\n",
    "    \"ATQ\":{\"flat\":0,\"percent\":0},\n",
    "    \"DEF\": {\"flat\":0,\"percent\":0},\n",
    "    \"VEL\": {\"flat\":0,\"percent\":0},\n",
    "    \"TC\":{\"flat\":0,\"percent\":0},\n",
    "    \"DC\":{\"flat\":0,\"percent\":0},\n",
    "    \"RES\":{\"flat\":0,\"percent\":0},\n",
    "    \"PRE\":{\"flat\":0,\"percent\":0},\n",
    "}\n",
    "\n",
    "\n",
    "runes = [runes1,runes2,runes3,runes4,runes5,runes6]\n",
    "for ru in runes:\n",
    "    if ru is not None:\n",
    "        runes_count[ru[\"type\"]] = 1 if  runes_count.get(ru[\"type\"]) is None else runes_count[ru[\"type\"]]+1\n",
    "        \n",
    "        for atribute in ru[\"atributes\"]:\n",
    "            multi[atribute[\"atr\"]][atribute[\"type_v\"]] +=atribute[\"value\"]\n",
    "        \n",
    "for ru in runes_count:\n",
    "    time_proc =int(runes_count[ru]/runes_effect[ru][\"N_min\"])\n",
    "    multi[runes_effect[ru][\"atr\"]][runes_effect[ru][\"type\"]] += runes_effect[ru][\"value\"]*time_proc\n",
    "        \n",
    "add ={}\n",
    "for i in multi:\n",
    "    if i in [\"HP\",\"ATQ\",\"DEF\",\"VEL\"]:\n",
    "        add[i] = round(multi[i][\"flat\"] + (mob_start[i]*multi[i][\"percent\"])+0.5)\n",
    "    else:\n",
    "        add[i] = multi[i][\"flat\"] + multi[i][\"percent\"]\n",
    "\n",
    "print(add)\n"
   ]
  },
  {
   "cell_type": "code",
   "execution_count": 135,
   "id": "09392ac7",
   "metadata": {
    "ExecuteTime": {
     "end_time": "2024-01-31T15:00:24.387179Z",
     "start_time": "2024-01-31T15:00:24.370690Z"
    }
   },
   "outputs": [],
   "source": [
    "runes_effect = {\n",
    "    \"Blade\" : {\"N_min\":2,\"atr\":\"TC\",\"value\":0.12, \"type\":\"flat\"},\n",
    "}"
   ]
  },
  {
   "cell_type": "code",
   "execution_count": 127,
   "id": "2a7ecbc3",
   "metadata": {
    "ExecuteTime": {
     "end_time": "2024-01-31T14:56:07.745562Z",
     "start_time": "2024-01-31T14:56:07.731045Z"
    }
   },
   "outputs": [],
   "source": [
    "for i in flat_values:\n",
    "    mob_final[i] +=flat_values[i]\n"
   ]
  },
  {
   "cell_type": "code",
   "execution_count": 43,
   "id": "5f94aa4c",
   "metadata": {
    "ExecuteTime": {
     "end_time": "2024-01-31T14:03:49.381600Z",
     "start_time": "2024-01-31T14:03:49.373370Z"
    }
   },
   "outputs": [
    {
     "data": {
      "text/plain": [
       "{'HP': 11126.86,\n",
       " 'ATQ': 1005.44,\n",
       " 'DEF': 571,\n",
       " 'VEL': 101,\n",
       " 'TC': 0.27,\n",
       " 'DC': 0.5,\n",
       " 'RES': 0.15,\n",
       " 'PRE': 0.15}"
      ]
     },
     "execution_count": 43,
     "metadata": {},
     "output_type": "execute_result"
    }
   ],
   "source": [
    "mob_final"
   ]
  },
  {
   "cell_type": "code",
   "execution_count": null,
   "id": "16297b86",
   "metadata": {},
   "outputs": [],
   "source": []
  },
  {
   "cell_type": "code",
   "execution_count": 54,
   "id": "fe3d567a",
   "metadata": {
    "ExecuteTime": {
     "end_time": "2024-01-31T14:06:01.784988Z",
     "start_time": "2024-01-31T14:06:01.268393Z"
    }
   },
   "outputs": [],
   "source": [
    "import numpy as npz"
   ]
  },
  {
   "cell_type": "code",
   "execution_count": 55,
   "id": "fb0ef067",
   "metadata": {
    "ExecuteTime": {
     "end_time": "2024-01-31T14:07:22.793023Z",
     "start_time": "2024-01-31T14:07:22.781016Z"
    }
   },
   "outputs": [
    {
     "data": {
      "text/plain": [
       "141.0"
      ]
     },
     "execution_count": 55,
     "metadata": {},
     "output_type": "execute_result"
    }
   ],
   "source": [
    "np.around(118+(380)*0.06)"
   ]
  },
  {
   "cell_type": "code",
   "execution_count": 46,
   "id": "1174dbf8",
   "metadata": {
    "ExecuteTime": {
     "end_time": "2024-01-31T14:05:04.900885Z",
     "start_time": "2024-01-31T14:05:04.897370Z"
    }
   },
   "outputs": [
    {
     "data": {
      "text/plain": [
       "527.88"
      ]
     },
     "execution_count": 46,
     "metadata": {},
     "output_type": "execute_result"
    }
   ],
   "source": [
    "(380+118)*1.06"
   ]
  },
  {
   "cell_type": "code",
   "execution_count": 44,
   "id": "c209ccdf",
   "metadata": {
    "ExecuteTime": {
     "end_time": "2024-01-31T14:03:53.029485Z",
     "start_time": "2024-01-31T14:03:53.015009Z"
    }
   },
   "outputs": [],
   "source": [
    "mob_target = {\n",
    "    \"HP\": 11805,\n",
    "    \"ATQ\":1067,\n",
    "    \"DEF\": 571,\n",
    "    \"VEL\": 101,\n",
    "    \"TC\":0.27,\n",
    "    \"DC\":0.5,\n",
    "    \"RES\":0.15,\n",
    "    \"PRE\":0.15,\n",
    "}"
   ]
  },
  {
   "cell_type": "code",
   "execution_count": 5,
   "id": "f70a25db",
   "metadata": {
    "ExecuteTime": {
     "end_time": "2024-01-31T13:49:23.551714Z",
     "start_time": "2024-01-31T13:49:23.538017Z"
    }
   },
   "outputs": [
    {
     "data": {
      "text/plain": [
       "1067"
      ]
     },
     "execution_count": 5,
     "metadata": {},
     "output_type": "execute_result"
    }
   ],
   "source": [
    "878+247-58"
   ]
  },
  {
   "cell_type": "code",
   "execution_count": 3,
   "id": "6aa6c2e1",
   "metadata": {
    "ExecuteTime": {
     "end_time": "2024-01-31T13:47:48.188082Z",
     "start_time": "2024-01-31T13:47:48.171227Z"
    }
   },
   "outputs": [
    {
     "data": {
      "text/plain": [
       "189"
      ]
     },
     "execution_count": 3,
     "metadata": {},
     "output_type": "execute_result"
    }
   ],
   "source": [
    "247-58"
   ]
  },
  {
   "cell_type": "code",
   "execution_count": null,
   "id": "04697910",
   "metadata": {},
   "outputs": [],
   "source": [
    "runes = []"
   ]
  }
 ],
 "metadata": {
  "kernelspec": {
   "display_name": "Python 3 (ipykernel)",
   "language": "python",
   "name": "python3"
  },
  "language_info": {
   "codemirror_mode": {
    "name": "ipython",
    "version": 3
   },
   "file_extension": ".py",
   "mimetype": "text/x-python",
   "name": "python",
   "nbconvert_exporter": "python",
   "pygments_lexer": "ipython3",
   "version": "3.9.13"
  }
 },
 "nbformat": 4,
 "nbformat_minor": 5
}
